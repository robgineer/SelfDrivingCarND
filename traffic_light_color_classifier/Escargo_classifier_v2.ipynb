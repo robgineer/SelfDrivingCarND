{
 "cells": [
  {
   "cell_type": "markdown",
   "metadata": {},
   "source": [
    "# Escargo Traffic Light Classifier"
   ]
  },
  {
   "cell_type": "markdown",
   "metadata": {},
   "source": [
    "### Training new classifier based on SqueezeNet approach \n",
    "https://github.com/DeepScale/SqueezeNet"
   ]
  },
  {
   "cell_type": "code",
   "execution_count": 1,
   "metadata": {},
   "outputs": [
    {
     "name": "stderr",
     "output_type": "stream",
     "text": [
      "Using TensorFlow backend.\n"
     ]
    }
   ],
   "source": [
    "import tensorflow as tf\n",
    "import cv2\n",
    "from matplotlib import pyplot as plt\n",
    "import glob\n",
    "import os\n",
    "import random\n",
    "from random import randint\n",
    "import math\n",
    "import numpy as np\n",
    "import keras\n",
    "from keras import backend as K\n",
    "from tensorflow.python.framework import graph_util\n",
    "from tensorflow.python.framework import graph_io\n",
    "from keras.models import load_model\n",
    "from keras.models import Model, Sequential\n",
    "from keras.layers import Dense, Flatten, Dropout, Input, GlobalAveragePooling2D\n",
    "from keras.layers import Conv2D, MaxPooling2D, Activation, Lambda, concatenate, ELU\n",
    "from keras.callbacks import ModelCheckpoint, EarlyStopping, Callback\n",
    "from keras import optimizers\n",
    "from keras.optimizers import Adam\n",
    "from keras.preprocessing.image import ImageDataGenerator\n",
    "\n",
    "%matplotlib inline"
   ]
  },
  {
   "cell_type": "markdown",
   "metadata": {},
   "source": [
    "### load dataset, only consider traffic light colors"
   ]
  },
  {
   "cell_type": "code",
   "execution_count": 2,
   "metadata": {},
   "outputs": [],
   "source": [
    "image_types = [\"red\", \"green\", \"yellow\"]\n",
    "input_img_x = 32\n",
    "input_img_y = 32\n",
    "\n",
    "full_set = []\n",
    "for im_type in image_types:\n",
    "    for ex in glob.glob(os.path.join(\"simulator/\", im_type, \"*\")):\n",
    "        im = cv2.imread(ex)\n",
    "        if not im is None:\n",
    "            # Resize image to defined height and width\n",
    "            im = cv2.resize(im, (input_img_x, input_img_y))\n",
    "            # Convert to RGB...cv2 import is BGR\n",
    "            im = cv2.cvtColor(im, cv2.COLOR_BGR2RGB) \n",
    "            # One hot encode the classes\n",
    "            one_hot_array = [0] * len(image_types)\n",
    "            one_hot_array[image_types.index(im_type)] = 1\n",
    "            # Check shape\n",
    "            assert(im.shape == (input_img_x, input_img_y, 3))\n",
    "            full_set.append((im, one_hot_array, ex))\n",
    "\n",
    "# Shuffle the data\n",
    "random.shuffle(full_set)"
   ]
  },
  {
   "cell_type": "code",
   "execution_count": 3,
   "metadata": {},
   "outputs": [
    {
     "name": "stdout",
     "output_type": "stream",
     "text": [
      "Training samples: 672\n",
      "Test samples: 64\n"
     ]
    }
   ],
   "source": [
    "# Define split and batch size\n",
    "train_test_split_ratio = 0.9\n",
    "batch_size = 32\n",
    "\n",
    "# Split data into a training and test \n",
    "split_index = int(math.floor(len(full_set) * train_test_split_ratio))\n",
    "train_set = full_set[:split_index]\n",
    "test_set = full_set[split_index:]\n",
    "\n",
    "# Ensure data length can be divided by batch size\n",
    "train_set_offset = len(train_set) % batch_size\n",
    "test_set_offset = len(test_set) % batch_size\n",
    "# Cut off offset\n",
    "train_set = train_set[: len(train_set) - train_set_offset]\n",
    "test_set = test_set[: len(test_set) - test_set_offset]\n",
    "# Split\n",
    "train_x, train_y, train_z = zip(*train_set)\n",
    "test_x, test_y, test_z = zip(*test_set)\n",
    "# Convert to numpy array\n",
    "train_x = np.array(train_x)\n",
    "train_y = np.array(train_y)\n",
    "test_x = np.array(test_x)\n",
    "test_y = np.array(test_y)\n",
    "print(\"Training samples: {}\".format(len(train_y)))\n",
    "print(\"Test samples: {}\".format(len(test_y)))"
   ]
  },
  {
   "cell_type": "code",
   "execution_count": 4,
   "metadata": {},
   "outputs": [
    {
     "name": "stdout",
     "output_type": "stream",
     "text": [
      "Example image:\n"
     ]
    },
    {
     "data": {
      "text/plain": [
       "<matplotlib.image.AxesImage at 0x2547e230f60>"
      ]
     },
     "execution_count": 4,
     "metadata": {},
     "output_type": "execute_result"
    },
    {
     "data": {
      "image/png": "[encoded data removed]",
      "text/plain": [
       "<matplotlib.figure.Figure at 0x2547de216a0>"
      ]
     },
     "metadata": {},
     "output_type": "display_data"
    }
   ],
   "source": [
    "print(\"Example image:\")\n",
    "plt.imshow(train_x[0])"
   ]
  },
  {
   "cell_type": "code",
   "execution_count": 5,
   "metadata": {},
   "outputs": [
    {
     "name": "stdout",
     "output_type": "stream",
     "text": [
      "{0: 1.0, 1: 4.847619047619047, 2: 8.775862068965518}\n"
     ]
    }
   ],
   "source": [
    "def get_class_weights(y):\n",
    "    unique, counts = np.unique(y, return_counts=True)\n",
    "    majority = max(counts)\n",
    "    return  {cls: float(majority/count) for cls, count in zip(unique, counts)}\n",
    "\n",
    "train_y_dec = np.argmax(train_y, axis=1)\n",
    "class_weights = get_class_weights(train_y_dec)\n",
    "print(class_weights)"
   ]
  },
  {
   "cell_type": "markdown",
   "metadata": {},
   "source": [
    "### Implementation of SqueezeNet"
   ]
  },
  {
   "cell_type": "code",
   "execution_count": 6,
   "metadata": {},
   "outputs": [],
   "source": [
    "drop_rate = 0.3"
   ]
  },
  {
   "cell_type": "code",
   "execution_count": 7,
   "metadata": {},
   "outputs": [
    {
     "name": "stdout",
     "output_type": "stream",
     "text": [
      "__________________________________________________________________________________________________\n",
      "Layer (type)                    Output Shape         Param #     Connected to                     \n",
      "==================================================================================================\n",
      "input_1 (InputLayer)            (None, 32, 32, 3)    0                                            \n",
      "__________________________________________________________________________________________________\n",
      "lambda_1 (Lambda)               (None, 32, 32, 3)    0           input_1[0][0]                    \n",
      "__________________________________________________________________________________________________\n",
      "fire1/squeeze1x1 (Conv2D)       (None, 32, 32, 16)   64          lambda_1[0][0]                   \n",
      "__________________________________________________________________________________________________\n",
      "fire1/elu_squeeze1x1 (Activatio (None, 32, 32, 16)   0           fire1/squeeze1x1[0][0]           \n",
      "__________________________________________________________________________________________________\n",
      "fire1/expand1x1 (Conv2D)        (None, 32, 32, 64)   1088        fire1/elu_squeeze1x1[0][0]       \n",
      "__________________________________________________________________________________________________\n",
      "fire1/expand3x3 (Conv2D)        (None, 32, 32, 64)   9280        fire1/elu_squeeze1x1[0][0]       \n",
      "__________________________________________________________________________________________________\n",
      "fire1/elu_expand1x1 (Activation (None, 32, 32, 64)   0           fire1/expand1x1[0][0]            \n",
      "__________________________________________________________________________________________________\n",
      "fire1/elu_expand3x3 (Activation (None, 32, 32, 64)   0           fire1/expand3x3[0][0]            \n",
      "__________________________________________________________________________________________________\n",
      "fire1/concat (Concatenate)      (None, 32, 32, 128)  0           fire1/elu_expand1x1[0][0]        \n",
      "                                                                 fire1/elu_expand3x3[0][0]        \n",
      "__________________________________________________________________________________________________\n",
      "fire2/squeeze1x1 (Conv2D)       (None, 32, 32, 16)   2064        fire1/concat[0][0]               \n",
      "__________________________________________________________________________________________________\n",
      "fire2/elu_squeeze1x1 (Activatio (None, 32, 32, 16)   0           fire2/squeeze1x1[0][0]           \n",
      "__________________________________________________________________________________________________\n",
      "fire2/expand1x1 (Conv2D)        (None, 32, 32, 64)   1088        fire2/elu_squeeze1x1[0][0]       \n",
      "__________________________________________________________________________________________________\n",
      "fire2/expand3x3 (Conv2D)        (None, 32, 32, 64)   9280        fire2/elu_squeeze1x1[0][0]       \n",
      "__________________________________________________________________________________________________\n",
      "fire2/elu_expand1x1 (Activation (None, 32, 32, 64)   0           fire2/expand1x1[0][0]            \n",
      "__________________________________________________________________________________________________\n",
      "fire2/elu_expand3x3 (Activation (None, 32, 32, 64)   0           fire2/expand3x3[0][0]            \n",
      "__________________________________________________________________________________________________\n",
      "fire2/concat (Concatenate)      (None, 32, 32, 128)  0           fire2/elu_expand1x1[0][0]        \n",
      "                                                                 fire2/elu_expand3x3[0][0]        \n",
      "__________________________________________________________________________________________________\n",
      "max_pooling2d_1 (MaxPooling2D)  (None, 15, 15, 128)  0           fire2/concat[0][0]               \n",
      "__________________________________________________________________________________________________\n",
      "fire3/squeeze1x1 (Conv2D)       (None, 15, 15, 32)   4128        max_pooling2d_1[0][0]            \n",
      "__________________________________________________________________________________________________\n",
      "fire3/elu_squeeze1x1 (Activatio (None, 15, 15, 32)   0           fire3/squeeze1x1[0][0]           \n",
      "__________________________________________________________________________________________________\n",
      "fire3/expand1x1 (Conv2D)        (None, 15, 15, 128)  4224        fire3/elu_squeeze1x1[0][0]       \n",
      "__________________________________________________________________________________________________\n",
      "fire3/expand3x3 (Conv2D)        (None, 15, 15, 128)  36992       fire3/elu_squeeze1x1[0][0]       \n",
      "__________________________________________________________________________________________________\n",
      "fire3/elu_expand1x1 (Activation (None, 15, 15, 128)  0           fire3/expand1x1[0][0]            \n",
      "__________________________________________________________________________________________________\n",
      "fire3/elu_expand3x3 (Activation (None, 15, 15, 128)  0           fire3/expand3x3[0][0]            \n",
      "__________________________________________________________________________________________________\n",
      "fire3/concat (Concatenate)      (None, 15, 15, 256)  0           fire3/elu_expand1x1[0][0]        \n",
      "                                                                 fire3/elu_expand3x3[0][0]        \n",
      "__________________________________________________________________________________________________\n",
      "fire4/squeeze1x1 (Conv2D)       (None, 15, 15, 32)   8224        fire3/concat[0][0]               \n",
      "__________________________________________________________________________________________________\n",
      "fire4/elu_squeeze1x1 (Activatio (None, 15, 15, 32)   0           fire4/squeeze1x1[0][0]           \n",
      "__________________________________________________________________________________________________\n",
      "fire4/expand1x1 (Conv2D)        (None, 15, 15, 128)  4224        fire4/elu_squeeze1x1[0][0]       \n",
      "__________________________________________________________________________________________________\n",
      "fire4/expand3x3 (Conv2D)        (None, 15, 15, 128)  36992       fire4/elu_squeeze1x1[0][0]       \n",
      "__________________________________________________________________________________________________\n",
      "fire4/elu_expand1x1 (Activation (None, 15, 15, 128)  0           fire4/expand1x1[0][0]            \n",
      "__________________________________________________________________________________________________\n",
      "fire4/elu_expand3x3 (Activation (None, 15, 15, 128)  0           fire4/expand3x3[0][0]            \n",
      "__________________________________________________________________________________________________\n",
      "fire4/concat (Concatenate)      (None, 15, 15, 256)  0           fire4/elu_expand1x1[0][0]        \n",
      "                                                                 fire4/elu_expand3x3[0][0]        \n",
      "__________________________________________________________________________________________________\n",
      "max_pooling2d_2 (MaxPooling2D)  (None, 7, 7, 256)    0           fire4/concat[0][0]               \n",
      "__________________________________________________________________________________________________\n",
      "fire5/squeeze1x1 (Conv2D)       (None, 7, 7, 48)     12336       max_pooling2d_2[0][0]            \n",
      "__________________________________________________________________________________________________\n",
      "fire5/elu_squeeze1x1 (Activatio (None, 7, 7, 48)     0           fire5/squeeze1x1[0][0]           \n",
      "__________________________________________________________________________________________________\n",
      "fire5/expand1x1 (Conv2D)        (None, 7, 7, 192)    9408        fire5/elu_squeeze1x1[0][0]       \n",
      "__________________________________________________________________________________________________\n",
      "fire5/expand3x3 (Conv2D)        (None, 7, 7, 192)    83136       fire5/elu_squeeze1x1[0][0]       \n",
      "__________________________________________________________________________________________________\n",
      "fire5/elu_expand1x1 (Activation (None, 7, 7, 192)    0           fire5/expand1x1[0][0]            \n",
      "__________________________________________________________________________________________________\n",
      "fire5/elu_expand3x3 (Activation (None, 7, 7, 192)    0           fire5/expand3x3[0][0]            \n",
      "__________________________________________________________________________________________________\n",
      "fire5/concat (Concatenate)      (None, 7, 7, 384)    0           fire5/elu_expand1x1[0][0]        \n",
      "                                                                 fire5/elu_expand3x3[0][0]        \n",
      "__________________________________________________________________________________________________\n",
      "fire6/squeeze1x1 (Conv2D)       (None, 7, 7, 48)     18480       fire5/concat[0][0]               \n",
      "__________________________________________________________________________________________________\n",
      "fire6/elu_squeeze1x1 (Activatio (None, 7, 7, 48)     0           fire6/squeeze1x1[0][0]           \n",
      "__________________________________________________________________________________________________\n",
      "fire6/expand1x1 (Conv2D)        (None, 7, 7, 192)    9408        fire6/elu_squeeze1x1[0][0]       \n",
      "__________________________________________________________________________________________________\n",
      "fire6/expand3x3 (Conv2D)        (None, 7, 7, 192)    83136       fire6/elu_squeeze1x1[0][0]       \n",
      "__________________________________________________________________________________________________\n",
      "fire6/elu_expand1x1 (Activation (None, 7, 7, 192)    0           fire6/expand1x1[0][0]            \n",
      "__________________________________________________________________________________________________\n",
      "fire6/elu_expand3x3 (Activation (None, 7, 7, 192)    0           fire6/expand3x3[0][0]            \n",
      "__________________________________________________________________________________________________\n",
      "fire6/concat (Concatenate)      (None, 7, 7, 384)    0           fire6/elu_expand1x1[0][0]        \n",
      "                                                                 fire6/elu_expand3x3[0][0]        \n",
      "__________________________________________________________________________________________________\n",
      "max_pooling2d_3 (MaxPooling2D)  (None, 3, 3, 384)    0           fire6/concat[0][0]               \n",
      "__________________________________________________________________________________________________\n",
      "dropout_1 (Dropout)             (None, 3, 3, 384)    0           max_pooling2d_3[0][0]            \n",
      "__________________________________________________________________________________________________\n",
      "conv2d_1 (Conv2D)               (None, 3, 3, 100)    38500       dropout_1[0][0]                  \n",
      "__________________________________________________________________________________________________\n",
      "activation_1 (Activation)       (None, 3, 3, 100)    0           conv2d_1[0][0]                   \n",
      "__________________________________________________________________________________________________\n",
      "global_average_pooling2d_1 (Glo (None, 100)          0           activation_1[0][0]               \n",
      "__________________________________________________________________________________________________\n",
      "loss (Dense)                    (None, 3)            303         global_average_pooling2d_1[0][0] \n",
      "==================================================================================================\n",
      "Total params: 372,355\n",
      "Trainable params: 372,355\n",
      "Non-trainable params: 0\n",
      "__________________________________________________________________________________________________\n"
     ]
    }
   ],
   "source": [
    "def fire_module(x, fire_id, squeeze=16, expand=64): \n",
    "    # Squeeze part with 1x1 conv\n",
    "    x = Conv2D(squeeze, (1, 1), padding='valid', name='fire' + str(fire_id) + '/' + \"squeeze1x1\")(x)\n",
    "    x = Activation('elu', name='fire' + str(fire_id) + '/elu_squeeze1x1')(x)\n",
    "    # Expand part with 1x1 conv\n",
    "    left = Conv2D(expand, (1, 1), padding='valid', name='fire' + str(fire_id) + '/' + \"expand1x1\")(x)\n",
    "    left = Activation('elu', name='fire' + str(fire_id) + '/elu_expand1x1')(left)\n",
    "    # Expand part with 3x3 conv\n",
    "    right = Conv2D(expand, (3, 3), padding='same', name='fire' + str(fire_id) + '/' + \"expand3x3\")(x)\n",
    "    right = Activation('elu', name='fire' + str(fire_id) + '/elu_expand3x3')(right)\n",
    "    # Fuse left and right expansion together\n",
    "    x = concatenate([left, right], axis=3, name='fire' + str(fire_id) + '/' + 'concat')\n",
    "    return x\n",
    "\n",
    "def squeeze_model():\n",
    "\n",
    "    input_img = Input(shape=(32, 32, 3))\n",
    "    \n",
    "    # Normalization from 0 to 1\n",
    "    x = Lambda(lambda x: x/255.0, input_shape=(32, 32, 3))(input_img)\n",
    "    \n",
    "    # Use two fire modules with 16 filter squeeze and 64 filter expand\n",
    "    x = fire_module(x, fire_id=1, squeeze=16, expand=64)\n",
    "    x = fire_module(x, fire_id=2, squeeze=16, expand=64)\n",
    "    x = MaxPooling2D(pool_size=(3, 3), strides=(2, 2))(x)\n",
    "    \n",
    "    # Use two fire modules with 32 filter squeeze and 128 filter expand\n",
    "    x = fire_module(x, fire_id=3, squeeze=32, expand=128)\n",
    "    x = fire_module(x, fire_id=4, squeeze=32, expand=128)\n",
    "    x = MaxPooling2D(pool_size=(3, 3), strides=(2, 2))(x)\n",
    "    \n",
    "    # Use two fire modules with 48 filter squeeze and 192 filter expand\n",
    "    x = fire_module(x, fire_id=5, squeeze=48, expand=192)\n",
    "    x = fire_module(x, fire_id=6, squeeze=48, expand=192)\n",
    "    x = MaxPooling2D(pool_size=(3, 3), strides=(2, 2))(x)\n",
    "    \n",
    "    # Dropout with drop rate\n",
    "    x = Dropout(drop_rate)(x)  \n",
    "    \n",
    "    # Last conv layer\n",
    "    x = Conv2D(100, (1, 1), padding='valid')(x)\n",
    "    x = Activation('elu')(x)\n",
    "    \n",
    "    # Global average pooling\n",
    "    x = GlobalAveragePooling2D()(x)\n",
    "    \n",
    "    # Output layer for the three classes with softmax\n",
    "    out = Dense(3, name='loss', activation=\"softmax\")(x)\n",
    "    \n",
    "    # Build model\n",
    "    model = Model(inputs=input_img, outputs=[out])     \n",
    "    return model\n",
    "\n",
    "# Summarize the model\n",
    "model = squeeze_model()\n",
    "model.summary()"
   ]
  },
  {
   "cell_type": "code",
   "execution_count": 8,
   "metadata": {
    "scrolled": true
   },
   "outputs": [
    {
     "name": "stdout",
     "output_type": "stream",
     "text": [
      "Train on 672 samples, validate on 64 samples\n",
      "Epoch 1/20\n",
      " - 5s - loss: 0.7738 - acc: 0.7574 - val_loss: 0.3901 - val_acc: 0.8906\n",
      "Epoch 2/20\n",
      " - 1s - loss: 0.4389 - acc: 0.8065 - val_loss: 0.1223 - val_acc: 0.9531\n",
      "Epoch 3/20\n",
      " - 1s - loss: 0.1187 - acc: 0.9449 - val_loss: 0.0199 - val_acc: 1.0000\n",
      "Epoch 4/20\n",
      " - 1s - loss: 0.0158 - acc: 1.0000 - val_loss: 0.0014 - val_acc: 1.0000\n",
      "Epoch 5/20\n",
      " - 1s - loss: 0.0019 - acc: 1.0000 - val_loss: 6.7487e-04 - val_acc: 1.0000\n",
      "Epoch 6/20\n",
      " - 1s - loss: 9.0219e-04 - acc: 1.0000 - val_loss: 3.6668e-04 - val_acc: 1.0000\n",
      "Epoch 7/20\n",
      " - 1s - loss: 6.6108e-04 - acc: 1.0000 - val_loss: 2.4168e-04 - val_acc: 1.0000\n",
      "Epoch 8/20\n",
      " - 1s - loss: 4.8797e-04 - acc: 1.0000 - val_loss: 1.8059e-04 - val_acc: 1.0000\n",
      "Epoch 9/20\n",
      " - 1s - loss: 3.9085e-04 - acc: 1.0000 - val_loss: 1.4644e-04 - val_acc: 1.0000\n",
      "Epoch 10/20\n",
      " - 1s - loss: 3.2271e-04 - acc: 1.0000 - val_loss: 1.1407e-04 - val_acc: 1.0000\n",
      "Epoch 11/20\n",
      " - 1s - loss: 2.5073e-04 - acc: 1.0000 - val_loss: 9.3099e-05 - val_acc: 1.0000\n",
      "Epoch 12/20\n",
      " - 1s - loss: 2.0813e-04 - acc: 1.0000 - val_loss: 8.0345e-05 - val_acc: 1.0000\n",
      "Epoch 13/20\n",
      " - 1s - loss: 1.8911e-04 - acc: 1.0000 - val_loss: 6.9204e-05 - val_acc: 1.0000\n",
      "Epoch 14/20\n",
      " - 1s - loss: 1.7434e-04 - acc: 1.0000 - val_loss: 5.9503e-05 - val_acc: 1.0000\n",
      "Epoch 15/20\n",
      " - 1s - loss: 1.6271e-04 - acc: 1.0000 - val_loss: 5.0188e-05 - val_acc: 1.0000\n",
      "Epoch 16/20\n",
      " - 1s - loss: 1.4188e-04 - acc: 1.0000 - val_loss: 4.3485e-05 - val_acc: 1.0000\n",
      "Epoch 17/20\n",
      " - 1s - loss: 1.2623e-04 - acc: 1.0000 - val_loss: 3.8448e-05 - val_acc: 1.0000\n",
      "Epoch 18/20\n",
      " - 1s - loss: 1.0521e-04 - acc: 1.0000 - val_loss: 3.3832e-05 - val_acc: 1.0000\n",
      "Epoch 19/20\n",
      " - 1s - loss: 1.0757e-04 - acc: 1.0000 - val_loss: 2.9691e-05 - val_acc: 1.0000\n",
      "Epoch 20/20\n",
      " - 1s - loss: 8.8688e-05 - acc: 1.0000 - val_loss: 2.6559e-05 - val_acc: 1.0000\n",
      "...Done! Model trained!\n"
     ]
    }
   ],
   "source": [
    "epochs = 20\n",
    "\n",
    "model.compile(loss='categorical_crossentropy', optimizer=Adam(lr=1e-4), metrics=['accuracy'])\n",
    "\n",
    "# Callbacks for checkpoints, visualisation and early stop\n",
    "check_point = ModelCheckpoint('./checkpoints/model-e{epoch:03d}.h5', monitor='val_loss', verbose=0, save_best_only=False, save_weights_only=False, mode='auto')\n",
    "# Early stop helps to prevent overfitting by stopping the training early in case that there is no chance anymore\n",
    "early_stop = EarlyStopping(monitor='val_loss', patience=4, verbose=0, mode='min')\n",
    "        \n",
    "history = model.fit(x=train_x,y=train_y,verbose=2,batch_size=batch_size,epochs=epochs,\n",
    "                    validation_data = (test_x, test_y), callbacks=[early_stop, check_point])\n",
    "\n",
    "model.save_weights('./model/model.h5')\n",
    "print(\"...Done! Model trained!\")"
   ]
  },
  {
   "cell_type": "markdown",
   "metadata": {},
   "source": [
    "### Visualize accuracies andlosses"
   ]
  },
  {
   "cell_type": "code",
   "execution_count": 10,
   "metadata": {},
   "outputs": [
    {
     "data": {
      "image/png": "[encoded data removed]",
      "text/plain": [
       "<matplotlib.figure.Figure at 0x2547e289b38>"
      ]
     },
     "metadata": {},
     "output_type": "display_data"
    },
    {
     "data": {
      "image/png": "[encoded data removed]",
      "text/plain": [
       "<matplotlib.figure.Figure at 0x254167e3fd0>"
      ]
     },
     "metadata": {},
     "output_type": "display_data"
    }
   ],
   "source": [
    "acc = history.history['acc']\n",
    "val_acc = history.history['val_acc']\n",
    "loss = history.history['loss']\n",
    "val_loss = history.history['val_loss']\n",
    "epochs = range(len(acc))\n",
    "plt.plot(epochs, acc, 'bo')\n",
    "plt.plot(epochs, val_acc, 'b')\n",
    "plt.title('Training and validation accuracy')\n",
    "plt.figure()\n",
    "plt.plot(epochs, loss, 'bo')\n",
    "plt.plot(epochs, val_loss, 'b')\n",
    "plt.title('Training and validation loss')\n",
    "plt.show()"
   ]
  },
  {
   "cell_type": "markdown",
   "metadata": {},
   "source": [
    "### Load the saved weights into a new model with same architecture"
   ]
  },
  {
   "cell_type": "code",
   "execution_count": 11,
   "metadata": {},
   "outputs": [
    {
     "name": "stdout",
     "output_type": "stream",
     "text": [
      "New SqueezeNet model with saved weights loaded!\n"
     ]
    }
   ],
   "source": [
    "K.set_learning_phase(0)\n",
    "model2 = squeeze_model()\n",
    "model2.load_weights(\"./model/model.h5\")\n",
    "print(\"New SqueezeNet model with saved weights loaded!\")"
   ]
  },
  {
   "cell_type": "code",
   "execution_count": 15,
   "metadata": {},
   "outputs": [
    {
     "name": "stdout",
     "output_type": "stream",
     "text": [
      "Predicted traffic light color: red\n",
      "Original traffic light color: [1 0 0]\n"
     ]
    },
    {
     "data": {
      "image/png": "[encoded data removed]",
      "text/plain": [
       "<matplotlib.figure.Figure at 0x25472bb5a20>"
      ]
     },
     "metadata": {},
     "output_type": "display_data"
    }
   ],
   "source": [
    "def predict(image):\n",
    "    pred_ = list(model2.predict(image, verbose=0)[0])\n",
    "    pred_idx = pred_.index(max(pred_))\n",
    "    predicted_label = image_types[pred_idx]\n",
    "    return predicted_label\n",
    "\n",
    "idx_ = randint(0, len(test_x))\n",
    "image = test_x[idx_]\n",
    "plt.imshow(image)\n",
    "img = np.reshape(image, (1, 32, 32, 3))\n",
    "print(\"Predicted traffic light color: {}\".format(predict(img)))\n",
    "print(\"Original traffic light color: {}\".format(test_y[idx_]))"
   ]
  },
  {
   "cell_type": "code",
   "execution_count": 16,
   "metadata": {},
   "outputs": [],
   "source": [
    "input_img_x = 32\n",
    "input_img_y = 32\n",
    "\n",
    "test_set = []\n",
    "\n",
    "for ex in glob.glob(os.path.join(\"./test_images\", \"*\")):\n",
    "    im = cv2.imread(ex)\n",
    "    if not im is None:\n",
    "        im = cv2.resize(im, (input_img_x, input_img_y))\n",
    "        im = cv2.cvtColor(im, cv2.COLOR_BGR2RGB) \n",
    "        test_set.append(im)"
   ]
  },
  {
   "cell_type": "code",
   "execution_count": 17,
   "metadata": {},
   "outputs": [
    {
     "data": {
      "image/png": "[encoded data removed]",
      "text/plain": [
       "<matplotlib.figure.Figure at 0x2540e473748>"
      ]
     },
     "metadata": {},
     "output_type": "display_data"
    },
    {
     "name": "stdout",
     "output_type": "stream",
     "text": [
      "Prediction: yellow\n"
     ]
    },
    {
     "data": {
      "image/png": "[encoded data removed]",
      "text/plain": [
       "<matplotlib.figure.Figure at 0x2540208be10>"
      ]
     },
     "metadata": {},
     "output_type": "display_data"
    },
    {
     "name": "stdout",
     "output_type": "stream",
     "text": [
      "Prediction: yellow\n"
     ]
    },
    {
     "data": {
      "image/png": "[encoded data removed]",
      "text/plain": [
       "<matplotlib.figure.Figure at 0x2549f616da0>"
      ]
     },
     "metadata": {},
     "output_type": "display_data"
    },
    {
     "name": "stdout",
     "output_type": "stream",
     "text": [
      "Prediction: green\n"
     ]
    },
    {
     "data": {
      "image/png": "[encoded data removed]",
      "text/plain": [
       "<matplotlib.figure.Figure at 0x2540e9231d0>"
      ]
     },
     "metadata": {},
     "output_type": "display_data"
    },
    {
     "name": "stdout",
     "output_type": "stream",
     "text": [
      "Prediction: red\n"
     ]
    },
    {
     "data": {
      "image/png": "[encoded data removed]",
      "text/plain": [
       "<matplotlib.figure.Figure at 0x25495688a90>"
      ]
     },
     "metadata": {},
     "output_type": "display_data"
    },
    {
     "name": "stdout",
     "output_type": "stream",
     "text": [
      "Prediction: yellow\n"
     ]
    },
    {
     "data": {
      "image/png": "[encoded data removed]",
      "text/plain": [
       "<matplotlib.figure.Figure at 0x2549f5fc208>"
      ]
     },
     "metadata": {},
     "output_type": "display_data"
    },
    {
     "name": "stdout",
     "output_type": "stream",
     "text": [
      "Prediction: red\n"
     ]
    },
    {
     "data": {
      "image/png": "[encoded data removed]",
      "text/plain": [
       "<matplotlib.figure.Figure at 0x254a8614d68>"
      ]
     },
     "metadata": {},
     "output_type": "display_data"
    },
    {
     "name": "stdout",
     "output_type": "stream",
     "text": [
      "Prediction: green\n"
     ]
    },
    {
     "data": {
      "image/png": "[encoded data removed]",
      "text/plain": [
       "<matplotlib.figure.Figure at 0x2549f60b2e8>"
      ]
     },
     "metadata": {},
     "output_type": "display_data"
    },
    {
     "name": "stdout",
     "output_type": "stream",
     "text": [
      "Prediction: red\n"
     ]
    },
    {
     "data": {
      "image/png": "[encoded data removed]",
      "text/plain": [
       "<matplotlib.figure.Figure at 0x254167c57b8>"
      ]
     },
     "metadata": {},
     "output_type": "display_data"
    },
    {
     "name": "stdout",
     "output_type": "stream",
     "text": [
      "Prediction: green\n"
     ]
    }
   ],
   "source": [
    "for img in test_set:\n",
    "    plt.imshow(img)\n",
    "    plt.show()\n",
    "    img = np.reshape(img, (1, 32, 32, 3))\n",
    "    pred = predict(img)\n",
    "    print(\"Prediction: {}\".format(pred))"
   ]
  },
  {
   "cell_type": "markdown",
   "metadata": {},
   "source": [
    "### Convert the saved keras model with weights into a tensorflow model"
   ]
  },
  {
   "cell_type": "code",
   "execution_count": 18,
   "metadata": {},
   "outputs": [
    {
     "name": "stdout",
     "output_type": "stream",
     "text": [
      "INFO:tensorflow:Froze 40 variables.\n",
      "Converted 40 variables to const ops.\n",
      "Keras model converted to TensorFlow model!\n"
     ]
    }
   ],
   "source": [
    "pred = [None]\n",
    "pred_node_names = [None]\n",
    "pred_node_names[0] = 'output_'+str(0)\n",
    "pred[0] = tf.identity(model.output[0], name=pred_node_names[0])\n",
    "sess = K.get_session()\n",
    "constant_graph = graph_util.convert_variables_to_constants(sess, sess.graph.as_graph_def(), pred_node_names)\n",
    "# Output the model as Tensorflow graph\n",
    "graph_io.write_graph(constant_graph, 'model', 'model_classification.pb', as_text=False)\n",
    "print('Keras model converted to TensorFlow model!')"
   ]
  },
  {
   "cell_type": "code",
   "execution_count": 21,
   "metadata": {},
   "outputs": [],
   "source": [
    "# Function to load a graph from a protobuf file\n",
    "def load_graph(graph_file):\n",
    "    with tf.Session(graph=tf.Graph(), config=config) as sess:\n",
    "        gd = tf.GraphDef()\n",
    "        with tf.gfile.Open(graph_file, 'rb') as f:\n",
    "            data = f.read()\n",
    "            gd.ParseFromString(data)\n",
    "        tf.import_graph_def(gd, name='')\n",
    "        return sess.graph\n",
    "\n",
    "# Optimizations for Tensorflow (from tutorial)\n",
    "config = tf.ConfigProto()\n",
    "jit_level = tf.OptimizerOptions.ON_1\n",
    "config.graph_options.optimizer_options.global_jit_level = jit_level    \n",
    "\n",
    "# Load graph\n",
    "graph = load_graph(os.path.join('model', 'model_classification.pb'))"
   ]
  },
  {
   "cell_type": "code",
   "execution_count": 22,
   "metadata": {},
   "outputs": [
    {
     "data": {
      "text/plain": [
       "[<tf.Operation 'input_1' type=Placeholder>,\n",
       " <tf.Operation 'lambda_1/truediv/y' type=Const>,\n",
       " <tf.Operation 'lambda_1/truediv' type=RealDiv>,\n",
       " <tf.Operation 'fire1/squeeze1x1/kernel' type=Const>,\n",
       " <tf.Operation 'fire1/squeeze1x1/kernel/read' type=Identity>,\n",
       " <tf.Operation 'fire1/squeeze1x1/bias' type=Const>,\n",
       " <tf.Operation 'fire1/squeeze1x1/bias/read' type=Identity>,\n",
       " <tf.Operation 'fire1/squeeze1x1/convolution' type=Conv2D>,\n",
       " <tf.Operation 'fire1/squeeze1x1/BiasAdd' type=BiasAdd>,\n",
       " <tf.Operation 'fire1/elu_squeeze1x1/Elu' type=Elu>,\n",
       " <tf.Operation 'fire1/expand1x1/kernel' type=Const>,\n",
       " <tf.Operation 'fire1/expand1x1/kernel/read' type=Identity>,\n",
       " <tf.Operation 'fire1/expand1x1/bias' type=Const>,\n",
       " <tf.Operation 'fire1/expand1x1/bias/read' type=Identity>,\n",
       " <tf.Operation 'fire1/expand1x1/convolution' type=Conv2D>,\n",
       " <tf.Operation 'fire1/expand1x1/BiasAdd' type=BiasAdd>,\n",
       " <tf.Operation 'fire1/elu_expand1x1/Elu' type=Elu>,\n",
       " <tf.Operation 'fire1/expand3x3/kernel' type=Const>,\n",
       " <tf.Operation 'fire1/expand3x3/kernel/read' type=Identity>,\n",
       " <tf.Operation 'fire1/expand3x3/bias' type=Const>,\n",
       " <tf.Operation 'fire1/expand3x3/bias/read' type=Identity>,\n",
       " <tf.Operation 'fire1/expand3x3/convolution' type=Conv2D>,\n",
       " <tf.Operation 'fire1/expand3x3/BiasAdd' type=BiasAdd>,\n",
       " <tf.Operation 'fire1/elu_expand3x3/Elu' type=Elu>,\n",
       " <tf.Operation 'fire1/concat/concat/axis' type=Const>,\n",
       " <tf.Operation 'fire1/concat/concat' type=ConcatV2>,\n",
       " <tf.Operation 'fire2/squeeze1x1/kernel' type=Const>,\n",
       " <tf.Operation 'fire2/squeeze1x1/kernel/read' type=Identity>,\n",
       " <tf.Operation 'fire2/squeeze1x1/bias' type=Const>,\n",
       " <tf.Operation 'fire2/squeeze1x1/bias/read' type=Identity>,\n",
       " <tf.Operation 'fire2/squeeze1x1/convolution' type=Conv2D>,\n",
       " <tf.Operation 'fire2/squeeze1x1/BiasAdd' type=BiasAdd>,\n",
       " <tf.Operation 'fire2/elu_squeeze1x1/Elu' type=Elu>,\n",
       " <tf.Operation 'fire2/expand1x1/kernel' type=Const>,\n",
       " <tf.Operation 'fire2/expand1x1/kernel/read' type=Identity>,\n",
       " <tf.Operation 'fire2/expand1x1/bias' type=Const>,\n",
       " <tf.Operation 'fire2/expand1x1/bias/read' type=Identity>,\n",
       " <tf.Operation 'fire2/expand1x1/convolution' type=Conv2D>,\n",
       " <tf.Operation 'fire2/expand1x1/BiasAdd' type=BiasAdd>,\n",
       " <tf.Operation 'fire2/elu_expand1x1/Elu' type=Elu>,\n",
       " <tf.Operation 'fire2/expand3x3/kernel' type=Const>,\n",
       " <tf.Operation 'fire2/expand3x3/kernel/read' type=Identity>,\n",
       " <tf.Operation 'fire2/expand3x3/bias' type=Const>,\n",
       " <tf.Operation 'fire2/expand3x3/bias/read' type=Identity>,\n",
       " <tf.Operation 'fire2/expand3x3/convolution' type=Conv2D>,\n",
       " <tf.Operation 'fire2/expand3x3/BiasAdd' type=BiasAdd>,\n",
       " <tf.Operation 'fire2/elu_expand3x3/Elu' type=Elu>,\n",
       " <tf.Operation 'fire2/concat/concat/axis' type=Const>,\n",
       " <tf.Operation 'fire2/concat/concat' type=ConcatV2>,\n",
       " <tf.Operation 'max_pooling2d_1/MaxPool' type=MaxPool>,\n",
       " <tf.Operation 'fire3/squeeze1x1/kernel' type=Const>,\n",
       " <tf.Operation 'fire3/squeeze1x1/kernel/read' type=Identity>,\n",
       " <tf.Operation 'fire3/squeeze1x1/bias' type=Const>,\n",
       " <tf.Operation 'fire3/squeeze1x1/bias/read' type=Identity>,\n",
       " <tf.Operation 'fire3/squeeze1x1/convolution' type=Conv2D>,\n",
       " <tf.Operation 'fire3/squeeze1x1/BiasAdd' type=BiasAdd>,\n",
       " <tf.Operation 'fire3/elu_squeeze1x1/Elu' type=Elu>,\n",
       " <tf.Operation 'fire3/expand1x1/kernel' type=Const>,\n",
       " <tf.Operation 'fire3/expand1x1/kernel/read' type=Identity>,\n",
       " <tf.Operation 'fire3/expand1x1/bias' type=Const>,\n",
       " <tf.Operation 'fire3/expand1x1/bias/read' type=Identity>,\n",
       " <tf.Operation 'fire3/expand1x1/convolution' type=Conv2D>,\n",
       " <tf.Operation 'fire3/expand1x1/BiasAdd' type=BiasAdd>,\n",
       " <tf.Operation 'fire3/elu_expand1x1/Elu' type=Elu>,\n",
       " <tf.Operation 'fire3/expand3x3/kernel' type=Const>,\n",
       " <tf.Operation 'fire3/expand3x3/kernel/read' type=Identity>,\n",
       " <tf.Operation 'fire3/expand3x3/bias' type=Const>,\n",
       " <tf.Operation 'fire3/expand3x3/bias/read' type=Identity>,\n",
       " <tf.Operation 'fire3/expand3x3/convolution' type=Conv2D>,\n",
       " <tf.Operation 'fire3/expand3x3/BiasAdd' type=BiasAdd>,\n",
       " <tf.Operation 'fire3/elu_expand3x3/Elu' type=Elu>,\n",
       " <tf.Operation 'fire3/concat/concat/axis' type=Const>,\n",
       " <tf.Operation 'fire3/concat/concat' type=ConcatV2>,\n",
       " <tf.Operation 'fire4/squeeze1x1/kernel' type=Const>,\n",
       " <tf.Operation 'fire4/squeeze1x1/kernel/read' type=Identity>,\n",
       " <tf.Operation 'fire4/squeeze1x1/bias' type=Const>,\n",
       " <tf.Operation 'fire4/squeeze1x1/bias/read' type=Identity>,\n",
       " <tf.Operation 'fire4/squeeze1x1/convolution' type=Conv2D>,\n",
       " <tf.Operation 'fire4/squeeze1x1/BiasAdd' type=BiasAdd>,\n",
       " <tf.Operation 'fire4/elu_squeeze1x1/Elu' type=Elu>,\n",
       " <tf.Operation 'fire4/expand1x1/kernel' type=Const>,\n",
       " <tf.Operation 'fire4/expand1x1/kernel/read' type=Identity>,\n",
       " <tf.Operation 'fire4/expand1x1/bias' type=Const>,\n",
       " <tf.Operation 'fire4/expand1x1/bias/read' type=Identity>,\n",
       " <tf.Operation 'fire4/expand1x1/convolution' type=Conv2D>,\n",
       " <tf.Operation 'fire4/expand1x1/BiasAdd' type=BiasAdd>,\n",
       " <tf.Operation 'fire4/elu_expand1x1/Elu' type=Elu>,\n",
       " <tf.Operation 'fire4/expand3x3/kernel' type=Const>,\n",
       " <tf.Operation 'fire4/expand3x3/kernel/read' type=Identity>,\n",
       " <tf.Operation 'fire4/expand3x3/bias' type=Const>,\n",
       " <tf.Operation 'fire4/expand3x3/bias/read' type=Identity>,\n",
       " <tf.Operation 'fire4/expand3x3/convolution' type=Conv2D>,\n",
       " <tf.Operation 'fire4/expand3x3/BiasAdd' type=BiasAdd>,\n",
       " <tf.Operation 'fire4/elu_expand3x3/Elu' type=Elu>,\n",
       " <tf.Operation 'fire4/concat/concat/axis' type=Const>,\n",
       " <tf.Operation 'fire4/concat/concat' type=ConcatV2>,\n",
       " <tf.Operation 'max_pooling2d_2/MaxPool' type=MaxPool>,\n",
       " <tf.Operation 'fire5/squeeze1x1/kernel' type=Const>,\n",
       " <tf.Operation 'fire5/squeeze1x1/kernel/read' type=Identity>,\n",
       " <tf.Operation 'fire5/squeeze1x1/bias' type=Const>,\n",
       " <tf.Operation 'fire5/squeeze1x1/bias/read' type=Identity>,\n",
       " <tf.Operation 'fire5/squeeze1x1/convolution' type=Conv2D>,\n",
       " <tf.Operation 'fire5/squeeze1x1/BiasAdd' type=BiasAdd>,\n",
       " <tf.Operation 'fire5/elu_squeeze1x1/Elu' type=Elu>,\n",
       " <tf.Operation 'fire5/expand1x1/kernel' type=Const>,\n",
       " <tf.Operation 'fire5/expand1x1/kernel/read' type=Identity>,\n",
       " <tf.Operation 'fire5/expand1x1/bias' type=Const>,\n",
       " <tf.Operation 'fire5/expand1x1/bias/read' type=Identity>,\n",
       " <tf.Operation 'fire5/expand1x1/convolution' type=Conv2D>,\n",
       " <tf.Operation 'fire5/expand1x1/BiasAdd' type=BiasAdd>,\n",
       " <tf.Operation 'fire5/elu_expand1x1/Elu' type=Elu>,\n",
       " <tf.Operation 'fire5/expand3x3/kernel' type=Const>,\n",
       " <tf.Operation 'fire5/expand3x3/kernel/read' type=Identity>,\n",
       " <tf.Operation 'fire5/expand3x3/bias' type=Const>,\n",
       " <tf.Operation 'fire5/expand3x3/bias/read' type=Identity>,\n",
       " <tf.Operation 'fire5/expand3x3/convolution' type=Conv2D>,\n",
       " <tf.Operation 'fire5/expand3x3/BiasAdd' type=BiasAdd>,\n",
       " <tf.Operation 'fire5/elu_expand3x3/Elu' type=Elu>,\n",
       " <tf.Operation 'fire5/concat/concat/axis' type=Const>,\n",
       " <tf.Operation 'fire5/concat/concat' type=ConcatV2>,\n",
       " <tf.Operation 'fire6/squeeze1x1/kernel' type=Const>,\n",
       " <tf.Operation 'fire6/squeeze1x1/kernel/read' type=Identity>,\n",
       " <tf.Operation 'fire6/squeeze1x1/bias' type=Const>,\n",
       " <tf.Operation 'fire6/squeeze1x1/bias/read' type=Identity>,\n",
       " <tf.Operation 'fire6/squeeze1x1/convolution' type=Conv2D>,\n",
       " <tf.Operation 'fire6/squeeze1x1/BiasAdd' type=BiasAdd>,\n",
       " <tf.Operation 'fire6/elu_squeeze1x1/Elu' type=Elu>,\n",
       " <tf.Operation 'fire6/expand1x1/kernel' type=Const>,\n",
       " <tf.Operation 'fire6/expand1x1/kernel/read' type=Identity>,\n",
       " <tf.Operation 'fire6/expand1x1/bias' type=Const>,\n",
       " <tf.Operation 'fire6/expand1x1/bias/read' type=Identity>,\n",
       " <tf.Operation 'fire6/expand1x1/convolution' type=Conv2D>,\n",
       " <tf.Operation 'fire6/expand1x1/BiasAdd' type=BiasAdd>,\n",
       " <tf.Operation 'fire6/elu_expand1x1/Elu' type=Elu>,\n",
       " <tf.Operation 'fire6/expand3x3/kernel' type=Const>,\n",
       " <tf.Operation 'fire6/expand3x3/kernel/read' type=Identity>,\n",
       " <tf.Operation 'fire6/expand3x3/bias' type=Const>,\n",
       " <tf.Operation 'fire6/expand3x3/bias/read' type=Identity>,\n",
       " <tf.Operation 'fire6/expand3x3/convolution' type=Conv2D>,\n",
       " <tf.Operation 'fire6/expand3x3/BiasAdd' type=BiasAdd>,\n",
       " <tf.Operation 'fire6/elu_expand3x3/Elu' type=Elu>,\n",
       " <tf.Operation 'fire6/concat/concat/axis' type=Const>,\n",
       " <tf.Operation 'fire6/concat/concat' type=ConcatV2>,\n",
       " <tf.Operation 'max_pooling2d_3/MaxPool' type=MaxPool>,\n",
       " <tf.Operation 'dropout_1/keras_learning_phase/input' type=Const>,\n",
       " <tf.Operation 'dropout_1/keras_learning_phase' type=PlaceholderWithDefault>,\n",
       " <tf.Operation 'dropout_1/cond/Switch' type=Switch>,\n",
       " <tf.Operation 'dropout_1/cond/switch_t' type=Identity>,\n",
       " <tf.Operation 'dropout_1/cond/pred_id' type=Identity>,\n",
       " <tf.Operation 'dropout_1/cond/mul/y' type=Const>,\n",
       " <tf.Operation 'dropout_1/cond/mul' type=Mul>,\n",
       " <tf.Operation 'dropout_1/cond/mul/Switch' type=Switch>,\n",
       " <tf.Operation 'dropout_1/cond/dropout/keep_prob' type=Const>,\n",
       " <tf.Operation 'dropout_1/cond/dropout/Shape' type=Shape>,\n",
       " <tf.Operation 'dropout_1/cond/dropout/random_uniform/min' type=Const>,\n",
       " <tf.Operation 'dropout_1/cond/dropout/random_uniform/max' type=Const>,\n",
       " <tf.Operation 'dropout_1/cond/dropout/random_uniform/RandomUniform' type=RandomUniform>,\n",
       " <tf.Operation 'dropout_1/cond/dropout/random_uniform/sub' type=Sub>,\n",
       " <tf.Operation 'dropout_1/cond/dropout/random_uniform/mul' type=Mul>,\n",
       " <tf.Operation 'dropout_1/cond/dropout/random_uniform' type=Add>,\n",
       " <tf.Operation 'dropout_1/cond/dropout/add' type=Add>,\n",
       " <tf.Operation 'dropout_1/cond/dropout/Floor' type=Floor>,\n",
       " <tf.Operation 'dropout_1/cond/dropout/div' type=RealDiv>,\n",
       " <tf.Operation 'dropout_1/cond/dropout/mul' type=Mul>,\n",
       " <tf.Operation 'dropout_1/cond/Switch_1' type=Switch>,\n",
       " <tf.Operation 'dropout_1/cond/Merge' type=Merge>,\n",
       " <tf.Operation 'conv2d_1/kernel' type=Const>,\n",
       " <tf.Operation 'conv2d_1/kernel/read' type=Identity>,\n",
       " <tf.Operation 'conv2d_1/bias' type=Const>,\n",
       " <tf.Operation 'conv2d_1/bias/read' type=Identity>,\n",
       " <tf.Operation 'conv2d_1/convolution' type=Conv2D>,\n",
       " <tf.Operation 'conv2d_1/BiasAdd' type=BiasAdd>,\n",
       " <tf.Operation 'activation_1/Elu' type=Elu>,\n",
       " <tf.Operation 'global_average_pooling2d_1/Mean/reduction_indices' type=Const>,\n",
       " <tf.Operation 'global_average_pooling2d_1/Mean' type=Mean>,\n",
       " <tf.Operation 'loss/kernel' type=Const>,\n",
       " <tf.Operation 'loss/kernel/read' type=Identity>,\n",
       " <tf.Operation 'loss/bias' type=Const>,\n",
       " <tf.Operation 'loss/bias/read' type=Identity>,\n",
       " <tf.Operation 'loss/MatMul' type=MatMul>,\n",
       " <tf.Operation 'loss/BiasAdd' type=BiasAdd>,\n",
       " <tf.Operation 'loss/Softmax' type=Softmax>,\n",
       " <tf.Operation 'strided_slice/stack' type=Const>,\n",
       " <tf.Operation 'strided_slice/stack_1' type=Const>,\n",
       " <tf.Operation 'strided_slice/stack_2' type=Const>,\n",
       " <tf.Operation 'strided_slice' type=StridedSlice>,\n",
       " <tf.Operation 'output_0' type=Identity>]"
      ]
     },
     "execution_count": 22,
     "metadata": {},
     "output_type": "execute_result"
    }
   ],
   "source": [
    "graph.get_operations()"
   ]
  },
  {
   "cell_type": "code",
   "execution_count": 23,
   "metadata": {},
   "outputs": [],
   "source": [
    "# Get input and output tensors\n",
    "in_graph = graph.get_tensor_by_name('input_1:0')\n",
    "out_graph = graph.get_tensor_by_name('output_0:0')"
   ]
  },
  {
   "cell_type": "code",
   "execution_count": null,
   "metadata": {},
   "outputs": [],
   "source": [
    "# Pick a random image from the test set\n",
    "image = test_x[randint(0, len(test_x))]\n",
    "plt.imshow(image)\n",
    "\n",
    "# Do the prediction here\n",
    "with tf.Session(graph=graph, config=config) as sess:   \n",
    "    sfmax = list(sess.run(tf.nn.softmax(out_graph.eval(feed_dict={in_graph: [image]}))))\n",
    "    sf_ind = sfmax.index(max(sfmax))\n",
    "    predicted_label = image_types[sf_ind]\n",
    "    print(predicted_label)"
   ]
  },
  {
   "cell_type": "markdown",
   "metadata": {},
   "source": [
    "### Check it on the created test set again"
   ]
  },
  {
   "cell_type": "code",
   "execution_count": 24,
   "metadata": {},
   "outputs": [
    {
     "data": {
      "image/png": "[encoded data removed]",
      "text/plain": [
       "<matplotlib.figure.Figure at 0x2540e955470>"
      ]
     },
     "metadata": {},
     "output_type": "display_data"
    },
    {
     "name": "stdout",
     "output_type": "stream",
     "text": [
      "Predicted traffic light by tensorflow graph: yellow\n"
     ]
    },
    {
     "data": {
      "image/png": "[encoded data removed]",
      "text/plain": [
       "<matplotlib.figure.Figure at 0x2540e8f5438>"
      ]
     },
     "metadata": {},
     "output_type": "display_data"
    },
    {
     "name": "stdout",
     "output_type": "stream",
     "text": [
      "Predicted traffic light by tensorflow graph: yellow\n"
     ]
    },
    {
     "data": {
      "image/png": "[encoded data removed]",
      "text/plain": [
       "<matplotlib.figure.Figure at 0x25473744f28>"
      ]
     },
     "metadata": {},
     "output_type": "display_data"
    },
    {
     "name": "stdout",
     "output_type": "stream",
     "text": [
      "Predicted traffic light by tensorflow graph: green\n"
     ]
    },
    {
     "data": {
      "image/png": "[encoded data removed]",
      "text/plain": [
       "<matplotlib.figure.Figure at 0x2540e955e48>"
      ]
     },
     "metadata": {},
     "output_type": "display_data"
    },
    {
     "name": "stdout",
     "output_type": "stream",
     "text": [
      "Predicted traffic light by tensorflow graph: red\n"
     ]
    },
    {
     "data": {
      "image/png": "[encoded data removed]",
      "text/plain": [
       "<matplotlib.figure.Figure at 0x2540e9555c0>"
      ]
     },
     "metadata": {},
     "output_type": "display_data"
    },
    {
     "name": "stdout",
     "output_type": "stream",
     "text": [
      "Predicted traffic light by tensorflow graph: yellow\n"
     ]
    },
    {
     "data": {
      "image/png": "[encoded data removed]",
      "text/plain": [
       "<matplotlib.figure.Figure at 0x2540efab6d8>"
      ]
     },
     "metadata": {},
     "output_type": "display_data"
    },
    {
     "name": "stdout",
     "output_type": "stream",
     "text": [
      "Predicted traffic light by tensorflow graph: red\n"
     ]
    },
    {
     "data": {
      "image/png": "[encoded data removed]",
      "text/plain": [
       "<matplotlib.figure.Figure at 0x25472bb5a20>"
      ]
     },
     "metadata": {},
     "output_type": "display_data"
    },
    {
     "name": "stdout",
     "output_type": "stream",
     "text": [
      "Predicted traffic light by tensorflow graph: green\n"
     ]
    },
    {
     "data": {
      "image/png": "[encoded data removed]",
      "text/plain": [
       "<matplotlib.figure.Figure at 0x254aadaf898>"
      ]
     },
     "metadata": {},
     "output_type": "display_data"
    },
    {
     "name": "stdout",
     "output_type": "stream",
     "text": [
      "Predicted traffic light by tensorflow graph: red\n"
     ]
    },
    {
     "data": {
      "image/png": "[encoded data removed]",
      "text/plain": [
       "<matplotlib.figure.Figure at 0x254aad6a518>"
      ]
     },
     "metadata": {},
     "output_type": "display_data"
    },
    {
     "name": "stdout",
     "output_type": "stream",
     "text": [
      "Predicted traffic light by tensorflow graph: green\n"
     ]
    }
   ],
   "source": [
    "for img in test_set:\n",
    "    with tf.Session(graph=graph, config=config) as sess:   \n",
    "        plt.imshow(img)\n",
    "        plt.show()\n",
    "        pred_ = list(sess.run(tf.nn.softmax(out_graph.eval(feed_dict={in_graph: [img]}))))\n",
    "        pred_idx = pred_.index(max(pred_))\n",
    "        predicted_label = image_types[pred_idx]\n",
    "        print(\"Predicted traffic light by tensorflow graph: {}\".format(predicted_label))"
   ]
  },
  {
   "cell_type": "code",
   "execution_count": null,
   "metadata": {},
   "outputs": [],
   "source": []
  }
 ],
 "metadata": {
  "kernelspec": {
   "display_name": "Python 3",
   "language": "python",
   "name": "python3"
  },
  "language_info": {
   "codemirror_mode": {
    "name": "ipython",
    "version": 3
   },
   "file_extension": ".py",
   "mimetype": "text/x-python",
   "name": "python",
   "nbconvert_exporter": "python",
   "pygments_lexer": "ipython3",
   "version": "3.5.4"
  }
 },
 "nbformat": 4,
 "nbformat_minor": 2
}
